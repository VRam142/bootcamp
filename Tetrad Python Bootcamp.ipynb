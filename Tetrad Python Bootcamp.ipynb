{
 "cells": [
  {
   "cell_type": "code",
   "execution_count": 1,
   "metadata": {},
   "outputs": [
    {
     "name": "stdout",
     "output_type": "stream",
     "text": [
      "Hello Tetrad!\n"
     ]
    }
   ],
   "source": [
    "import os,sys,re\n",
    "\n",
    "print \"Hello Tetrad!\""
   ]
  },
  {
   "cell_type": "code",
   "execution_count": 4,
   "metadata": {},
   "outputs": [
    {
     "name": "stdout",
     "output_type": "stream",
     "text": [
      "1\n",
      "2\n",
      "3\n"
     ]
    }
   ],
   "source": [
    "x = 1 #the variable \"x\" now has the value 1\n",
    "y = 2 #the variable \"y\" now has the value 2\n",
    "z = x + y # lets initialize a variable z that is x + y\n",
    "\n",
    "#And then let's print out all of those values!\n",
    "print x\n",
    "print y\n",
    "print z"
   ]
  },
  {
   "cell_type": "code",
   "execution_count": 42,
   "metadata": {},
   "outputs": [
    {
     "name": "stdout",
     "output_type": "stream",
     "text": [
      "1\n",
      "1.5\n",
      "1.5\n",
      "1.5\n"
     ]
    }
   ],
   "source": [
    "foo = 3\n",
    "bar = 3.0\n",
    "\n",
    "print foo / 2\n",
    "print bar / 2\n",
    "print foo / 2.0\n",
    "print bar / 2.0\n"
   ]
  },
  {
   "cell_type": "code",
   "execution_count": 11,
   "metadata": {},
   "outputs": [
    {
     "name": "stdout",
     "output_type": "stream",
     "text": [
      "6\n",
      "33\n"
     ]
    },
    {
     "ename": "TypeError",
     "evalue": "cannot concatenate 'str' and 'int' objects",
     "output_type": "error",
     "traceback": [
      "\u001b[0;31m---------------------------------------------------------------------------\u001b[0m",
      "\u001b[0;31mTypeError\u001b[0m                                 Traceback (most recent call last)",
      "\u001b[0;32m<ipython-input-11-f946d4918ccb>\u001b[0m in \u001b[0;36m<module>\u001b[0;34m()\u001b[0m\n\u001b[1;32m      7\u001b[0m \u001b[0;34m\u001b[0m\u001b[0m\n\u001b[1;32m      8\u001b[0m \u001b[0mint2string\u001b[0m \u001b[0;34m=\u001b[0m \u001b[0mstr\u001b[0m\u001b[0;34m(\u001b[0m\u001b[0minteger\u001b[0m\u001b[0;34m)\u001b[0m\u001b[0;34m\u001b[0m\u001b[0m\n\u001b[0;32m----> 9\u001b[0;31m \u001b[0;32mprint\u001b[0m \u001b[0mint2string\u001b[0m \u001b[0;34m+\u001b[0m \u001b[0minteger\u001b[0m \u001b[0;31m#What happens when I try to sum an integer and a string?\u001b[0m\u001b[0;34m\u001b[0m\u001b[0m\n\u001b[0m",
      "\u001b[0;31mTypeError\u001b[0m: cannot concatenate 'str' and 'int' objects"
     ]
    }
   ],
   "source": [
    "string = \"3\"\n",
    "integer = 3\n",
    "\n",
    "string2int = int(string)\n",
    "print string2int + integer #What happens when I sum integers?\n",
    "print string + string      #What happens when I sum strings?\n",
    "\n",
    "int2string = str(integer)\n",
    "print int2string + integer #What happens when I try to sum an integer and a string?\n"
   ]
  },
  {
   "cell_type": "code",
   "execution_count": 13,
   "metadata": {},
   "outputs": [
    {
     "name": "stdout",
     "output_type": "stream",
     "text": [
      "[1, 2, 3, 4, 5, 'cheese', 'crackers', 'wine', 3.141592654]\n",
      "1\n",
      "cheese\n",
      "3.141592654\n",
      "[1, 2, 3, 4, 5]\n",
      "[3.141592654, 'wine', 'crackers']\n",
      "[1, 2, 3, 4, 5, 'cheese']\n",
      "[1, 2, 3, 4, 5, 'cheese', 'crackers', 'wine', 3.141592654, 'Add me!']\n",
      "[1, 2, 3, 4, 5, 'cheese', 'crackers', 'wine', 3.141592654, 'Add me!', 'Add me!']\n"
     ]
    }
   ],
   "source": [
    "#Lists can be comprised of many data types!\n",
    "newList = [1,2,3,4,5,\"cheese\",\"crackers\",\"wine\",3.141592654]\n",
    "print newList\n",
    "#We can address different elements of the list using indexing\n",
    "print newList[0]\n",
    "print newList[5]\n",
    "print newList[-1]\n",
    "#We can also subset lists through \"slicing\"\n",
    "print newList[:5]\n",
    "print newList[:5:-1]\n",
    "print newList[:-3]\n",
    "#Finally, we can add stuff to lists using the + operator, or the append function\n",
    "\n",
    "#Option 1\n",
    "newObject = [\"Add me!\"]\n",
    "newList += newObject\n",
    "print newList\n",
    "\n",
    "#Option 2\n",
    "newObject = \"Add me!\"\n",
    "newList.append(newObject)\n",
    "print newList"
   ]
  },
  {
   "cell_type": "code",
   "execution_count": 14,
   "metadata": {
    "scrolled": true
   },
   "outputs": [
    {
     "name": "stdout",
     "output_type": "stream",
     "text": [
      "Fruit\n",
      "Vegetable\n"
     ]
    }
   ],
   "source": [
    "myDict = {\"apple\":\"Fruit\",\"orange\":\"Fruit\",\"tomato\":\"Fruit\",\"Broccoli\":\"Vegetable\"}\n",
    "print myDict[\"apple\"]\n",
    "print myDict[\"Broccoli\"]"
   ]
  },
  {
   "cell_type": "code",
   "execution_count": 19,
   "metadata": {},
   "outputs": [
    {
     "name": "stdout",
     "output_type": "stream",
     "text": [
      "35.0\n",
      "50.0\n"
     ]
    }
   ],
   "source": [
    "#Lets initialize some dictionaries of dictionaries\n",
    "dictOfDicts = {1:{}, 2: {}}\n",
    "dictOfDicts[1][\"Sox2\"] = 35.0 #We can add key:value pairs to a dictionary like so\n",
    "dictOfDicts[2][\"Sox2\"] = 50.0\n",
    "\n",
    "print dictOfDicts[1][\"Sox2\"]\n",
    "print dictOfDicts[2][\"Sox2\"]"
   ]
  },
  {
   "cell_type": "code",
   "execution_count": 26,
   "metadata": {},
   "outputs": [
    {
     "ename": "TypeError",
     "evalue": "unhashable type: 'list'",
     "output_type": "error",
     "traceback": [
      "\u001b[0;31m---------------------------------------------------------------------------\u001b[0m",
      "\u001b[0;31mTypeError\u001b[0m                                 Traceback (most recent call last)",
      "\u001b[0;32m<ipython-input-26-0ef5ac57fc86>\u001b[0m in \u001b[0;36m<module>\u001b[0;34m()\u001b[0m\n\u001b[1;32m      1\u001b[0m \u001b[0;31m#Dictionaries need to have unique immutable keys, but can have non-unique, mutable values!\u001b[0m\u001b[0;34m\u001b[0m\u001b[0;34m\u001b[0m\u001b[0m\n\u001b[1;32m      2\u001b[0m \u001b[0mfoo\u001b[0m \u001b[0;34m=\u001b[0m \u001b[0;34m[\u001b[0m\u001b[0;36m1\u001b[0m\u001b[0;34m,\u001b[0m\u001b[0;36m2\u001b[0m\u001b[0;34m,\u001b[0m\u001b[0;36m3\u001b[0m\u001b[0;34m]\u001b[0m\u001b[0;34m\u001b[0m\u001b[0m\n\u001b[0;32m----> 3\u001b[0;31m \u001b[0mbadDict\u001b[0m \u001b[0;34m=\u001b[0m \u001b[0;34m{\u001b[0m\u001b[0mfoo\u001b[0m\u001b[0;34m:\u001b[0m\u001b[0;36m2\u001b[0m\u001b[0;34m,\u001b[0m \u001b[0;36m1\u001b[0m\u001b[0;34m:\u001b[0m\u001b[0;36m2\u001b[0m\u001b[0;34m,\u001b[0m \u001b[0;36m1\u001b[0m\u001b[0;34m:\u001b[0m\u001b[0;36m3\u001b[0m\u001b[0;34m}\u001b[0m\u001b[0;34m\u001b[0m\u001b[0m\n\u001b[0m",
      "\u001b[0;31mTypeError\u001b[0m: unhashable type: 'list'"
     ]
    }
   ],
   "source": [
    "#Dictionaries need to have unique immutable keys, but can have non-unique, mutable values!\n",
    "foo = [1,2,3]\n",
    "badDict = {foo:2, 1:2, 1:3}"
   ]
  },
  {
   "cell_type": "code",
   "execution_count": 27,
   "metadata": {},
   "outputs": [
    {
     "name": "stdout",
     "output_type": "stream",
     "text": [
      "1\n",
      "11\n",
      "2\n",
      "12\n",
      "3\n",
      "13\n",
      "4\n",
      "14\n",
      "5\n",
      "15\n",
      "6\n",
      "16\n",
      "7\n",
      "17\n",
      "8\n",
      "18\n",
      "9\n",
      "19\n",
      "10\n",
      "20\n"
     ]
    }
   ],
   "source": [
    "loopList = [1,2,3,4,5,6,7,8,9,10]\n",
    "\n",
    "#Here is the syntax for a for loop. Note the whitespace!!\n",
    "#Whitespace is important in Python\n",
    "for i in loopList:\n",
    "    j = i + 10\n",
    "    print i\n",
    "    print j"
   ]
  },
  {
   "cell_type": "code",
   "execution_count": 34,
   "metadata": {},
   "outputs": [
    {
     "name": "stdout",
     "output_type": "stream",
     "text": [
      "Not even and less than 5\n",
      "2\n",
      "Not even and less than 5\n",
      "4\n",
      "Not even and less than 5\n",
      "6\n",
      "Not even and also greater than 5\n",
      "8\n",
      "Not even and also greater than 5\n",
      "10\n",
      "1\tmoo\n",
      "3\tbaa\n",
      "5\toink\n",
      "7\troar\n"
     ]
    }
   ],
   "source": [
    "loopList = [1,2,3,4,5,6,7,8,9,10]\n",
    "loopDict = {1:\"moo\", 3:\"baa\", 5:\"oink\", 7:\"roar\"}\n",
    "\n",
    "#Lets explore a function that only prints all of the even numbers\n",
    "#in the list above\n",
    "for i in loopList:\n",
    "    if i % 2 == 0: #The % operator gives us the remainder of i / 2\n",
    "        print i\n",
    "    elif i > 5:\n",
    "        print \"Not even and also greater than 5\"\n",
    "    else:\n",
    "        print \"Not even and less than 5\"\n",
    "\n",
    "#Now lets try some other syntax:\n",
    "for i in loopList:\n",
    "    if i in loopDict:\n",
    "        #here we're using string formatting to print something. The syntax for string formatting is:\n",
    "        # \"%s\" % (variable name), and you can do this for as many variables as you'd like\n",
    "        print \"%s\\t%s\" % (i, loopDict[i]) "
   ]
  },
  {
   "cell_type": "code",
   "execution_count": 40,
   "metadata": {},
   "outputs": [
    {
     "name": "stdout",
     "output_type": "stream",
     "text": [
      "0\n",
      "1\n",
      "2\n",
      "3\n",
      "4\n"
     ]
    }
   ],
   "source": [
    "i = 0\n",
    "while i < 5:\n",
    "    print i\n",
    "    i += 1\n",
    "    "
   ]
  },
  {
   "cell_type": "code",
   "execution_count": null,
   "metadata": {
    "collapsed": true
   },
   "outputs": [],
   "source": [
    "import os,sys,re\n",
    "\n",
    "def myFunction(dictionary, outfile):\n",
    "    '''This function takes in a dictionary of scores, and then \n",
    "    prints the highest and lowest names and scores to an outfile'''\n",
    "    val_max = 0\n",
    "    val_min = 0\n",
    "    for i in dictionary:\n",
    "        if dictionary[i] < val_min:\n",
    "            val_min = dictionary[i]\n",
    "            lowest = i\n",
    "        if dictionary[i] > val_max:\n",
    "            val_max = dictionary[i]\n",
    "            highest = i\n",
    "    print >> outfile, \"%s\\t%s\\tHighScore\" % (highest, dictionary[highest])\n",
    "    print >> outfile, \"%s\\t%s\\tLowScore\" % (lowest, dictionary[lowest])\n",
    "\n",
    "fhi = open(sys.argv[1]) #This allos us to open a file-handle for input\n",
    "fho = open(sys.argv[2], 'w') #This allows us to open a file-handle for output; don't forget the 'w' flag!\n",
    "\n",
    "score_dictionary = {}\n",
    "\n",
    "for line in fhi: #Files can be iterated over as well!\n",
    "    split = line.split('\\t') #This very useful function allows us to split the line into a list\n",
    "    score_dictionary[split[0]] = int(split[1])\n",
    "\n",
    "myFunction(score_dictionary, fho)\n",
    "\n",
    "fhi.close()\n",
    "fho.close()"
   ]
  },
  {
   "cell_type": "code",
   "execution_count": null,
   "metadata": {
    "collapsed": true
   },
   "outputs": [],
   "source": [
    "# The usual preamble\n",
    "%matplotlib inline\n",
    "import pandas as pd\n",
    "import matplotlib.pyplot as plt\n",
    "\n",
    "# Make the graphs a bit prettier, and bigger\n",
    "pd.set_option('display.mpl_style', 'default')\n",
    "\n",
    "# This is necessary to show lots of columns in pandas 0.12. \n",
    "# Not necessary in pandas 0.13.\n",
    "pd.set_option('display.width', 5000) \n",
    "pd.set_option('display.max_columns', 60)\n",
    "\n",
    "plt.rcParams['figure.figsize'] = (15, 5)"
   ]
  }
 ],
 "metadata": {
  "kernelspec": {
   "display_name": "Python 2",
   "language": "python",
   "name": "python2"
  },
  "language_info": {
   "codemirror_mode": {
    "name": "ipython",
    "version": 2
   },
   "file_extension": ".py",
   "mimetype": "text/x-python",
   "name": "python",
   "nbconvert_exporter": "python",
   "pygments_lexer": "ipython2",
   "version": "2.7.13"
  }
 },
 "nbformat": 4,
 "nbformat_minor": 2
}
